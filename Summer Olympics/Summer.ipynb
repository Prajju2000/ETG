{
 "cells": [
  {
   "cell_type": "markdown",
   "metadata": {},
   "source": [
    "# Summer Olympics Data Analysis Assignment"
   ]
  },
  {
   "cell_type": "markdown",
   "metadata": {},
   "source": [
    "### 1. In how many cities Summer Olympics is held so far?"
   ]
  },
  {
   "cell_type": "code",
   "execution_count": 1,
   "metadata": {},
   "outputs": [],
   "source": [
    "import pandas as pd\n",
    "import numpy as np\n",
    "import matplotlib.pyplot as plt\n",
    "from collections import Counter"
   ]
  },
  {
   "cell_type": "code",
   "execution_count": 2,
   "metadata": {},
   "outputs": [],
   "source": [
    "fd=pd.read_csv('summer.csv')"
   ]
  },
  {
   "cell_type": "code",
   "execution_count": 3,
   "metadata": {},
   "outputs": [],
   "source": [
    "lst=fd.values"
   ]
  },
  {
   "cell_type": "code",
   "execution_count": 4,
   "metadata": {},
   "outputs": [],
   "source": [
    "x=lst[:,1:2]"
   ]
  },
  {
   "cell_type": "code",
   "execution_count": 5,
   "metadata": {},
   "outputs": [],
   "source": [
    "cities=np.unique(x)"
   ]
  },
  {
   "cell_type": "code",
   "execution_count": 6,
   "metadata": {
    "scrolled": true
   },
   "outputs": [
    {
     "name": "stdout",
     "output_type": "stream",
     "text": [
      "********************************************************\n",
      "   In 22 cities Summer Olympics is held so far.\n",
      "********************************************************\n"
     ]
    }
   ],
   "source": [
    "count=0\n",
    "for i in cities:\n",
    "    count+=1\n",
    "print(\"********************************************************\")\n",
    "print(\"   In \"+str(count)+\" cities Summer Olympics is held so far.\")\n",
    "print(\"********************************************************\")"
   ]
  },
  {
   "cell_type": "markdown",
   "metadata": {},
   "source": [
    "### 2. Which sport is having most number of Gold Medals so far? (Top 5)"
   ]
  },
  {
   "cell_type": "code",
   "execution_count": 7,
   "metadata": {},
   "outputs": [],
   "source": [
    "medals=lst[:,2:9:6]"
   ]
  },
  {
   "cell_type": "code",
   "execution_count": 8,
   "metadata": {},
   "outputs": [],
   "source": [
    "total=[]\n",
    "for i in medals:\n",
    "    if(i[1]=='Gold'):\n",
    "        total.append(list(i))\n"
   ]
  },
  {
   "cell_type": "code",
   "execution_count": 9,
   "metadata": {},
   "outputs": [],
   "source": [
    "ele=np.unique(total)\n"
   ]
  },
  {
   "cell_type": "code",
   "execution_count": 10,
   "metadata": {},
   "outputs": [],
   "source": [
    "ar={}\n",
    "for i in ele:\n",
    "    count=0\n",
    "    for j in total:\n",
    "        if(j[0]==i):\n",
    "            count+=1\n",
    "    ar.update({i:count})"
   ]
  },
  {
   "cell_type": "code",
   "execution_count": 11,
   "metadata": {},
   "outputs": [],
   "source": [
    "k = Counter(ar)\n",
    "high=k.most_common(5)\n"
   ]
  },
  {
   "cell_type": "code",
   "execution_count": 12,
   "metadata": {},
   "outputs": [
    {
     "name": "stdout",
     "output_type": "stream",
     "text": [
      "**********************\n",
      "Aquatics--->1421\n",
      "Athletics--->1215\n",
      "Rowing--->890\n",
      "Gymnastics--->820\n",
      "Fencing--->552\n",
      "**********************\n"
     ]
    },
    {
     "data": {
      "image/png": "[encoded data removed]",
      "text/plain": [
       "<Figure size 720x360 with 1 Axes>"
      ]
     },
     "metadata": {
      "needs_background": "light"
     },
     "output_type": "display_data"
    }
   ],
   "source": [
    "sports=[]\n",
    "values=[]\n",
    "print(\"**********************\")\n",
    "for i in high:\n",
    "    print(i[0],end=\"--->\")\n",
    "    sports.append(i[0])\n",
    "    values.append(i[1])\n",
    "    print(str(i[1]))\n",
    "print(\"**********************\")\n",
    "\n",
    "  \n",
    "fig = plt.figure(figsize = (10, 5))\n",
    " \n",
    "# creating the bar plot\n",
    "plt.bar(sports, values, color ='maroon',\n",
    "        width = 0.4)\n",
    " \n",
    "plt.xlabel(\"Sport\")\n",
    "plt.ylabel(\"Count of gold medal\")\n",
    "plt.title(\"Sport  having most number of Gold Medals so far\")\n",
    "plt.show()"
   ]
  },
  {
   "cell_type": "markdown",
   "metadata": {},
   "source": [
    "### 3. Which sport is having most number of medals so far? (Top 5)"
   ]
  },
  {
   "cell_type": "code",
   "execution_count": 13,
   "metadata": {},
   "outputs": [],
   "source": [
    "medals=lst[:,3:4]\n",
    "ar={}\n",
    "for i in ele:\n",
    "    count=0\n",
    "    for j in medals:\n",
    "        if(j[0]==i):\n",
    "            count+=1\n",
    "    ar.update({i:count})\n",
    "\n",
    "k = Counter(ar)\n",
    "high=k.most_common(5)"
   ]
  },
  {
   "cell_type": "code",
   "execution_count": 14,
   "metadata": {},
   "outputs": [
    {
     "name": "stdout",
     "output_type": "stream",
     "text": [
      "**********************\n",
      "Athletics--->3638\n",
      "Rowing--->2667\n",
      "Fencing--->1613\n",
      "Football--->1497\n",
      "Hockey--->1422\n",
      "**********************\n"
     ]
    },
    {
     "data": {
      "image/png": "[encoded data removed]",
      "text/plain": [
       "<Figure size 720x360 with 1 Axes>"
      ]
     },
     "metadata": {
      "needs_background": "light"
     },
     "output_type": "display_data"
    }
   ],
   "source": [
    "sports=[]\n",
    "values=[]\n",
    "print(\"**********************\")\n",
    "for i in high:\n",
    "    print(i[0],end=\"--->\")\n",
    "    sports.append(i[0])\n",
    "    values.append(i[1])\n",
    "    print(str(i[1]))\n",
    "print(\"**********************\")\n",
    "\n",
    "  \n",
    "fig = plt.figure(figsize = (10, 5))\n",
    " \n",
    "# creating the bar plot\n",
    "plt.bar(sports, values, color ='maroon',\n",
    "        width = 0.4)\n",
    " \n",
    "plt.xlabel(\"Sport\")\n",
    "plt.ylabel(\"Count of medal\")\n",
    "plt.title(\"Sport having most number of medals so far\")\n",
    "plt.show()"
   ]
  },
  {
   "cell_type": "markdown",
   "metadata": {},
   "source": [
    "### 4. Which player has won most number of medals? (Top 5)"
   ]
  },
  {
   "cell_type": "code",
   "execution_count": 15,
   "metadata": {},
   "outputs": [],
   "source": [
    "players=lst[:,4:5]\n",
    "ele=np.unique(players)"
   ]
  },
  {
   "cell_type": "code",
   "execution_count": 16,
   "metadata": {},
   "outputs": [],
   "source": [
    "ar={}\n",
    "for i in ele:\n",
    "    count=0\n",
    "    for j in players:\n",
    "        if(j[0]==i):\n",
    "            count+=1\n",
    "    ar.update({i:count})\n",
    "\n",
    "k = Counter(ar)\n",
    "high=k.most_common(5)"
   ]
  },
  {
   "cell_type": "code",
   "execution_count": 18,
   "metadata": {},
   "outputs": [
    {
     "name": "stdout",
     "output_type": "stream",
     "text": [
      "**********************\n",
      "PHELPS, Michael--->22\n",
      "LATYNINA, Larisa--->18\n",
      "ANDRIANOV, Nikolay--->15\n",
      "MANGIAROTTI, Edoardo--->13\n",
      "ONO, Takashi--->13\n",
      "**********************\n"
     ]
    },
    {
     "data": {
      "image/png": "[encoded data removed]",
      "text/plain": [
       "<Figure size 720x360 with 1 Axes>"
      ]
     },
     "metadata": {
      "needs_background": "light"
     },
     "output_type": "display_data"
    }
   ],
   "source": [
    "player=[]\n",
    "values=[]\n",
    "print(\"**********************\")\n",
    "for i in high:\n",
    "    print(i[0],end=\"--->\")\n",
    "    player.append(i[0])\n",
    "    values.append(i[1])\n",
    "    print(str(i[1]))\n",
    "print(\"**********************\")\n",
    "\n",
    "  \n",
    "fig = plt.figure(figsize = (10, 5))\n",
    " \n",
    "# creating the bar plot\n",
    "plt.bar(player, values, color ='maroon',\n",
    "        width = 0.4)\n",
    " \n",
    "plt.xlabel(\"Player\")\n",
    "plt.ylabel(\"Count of medal\")\n",
    "plt.title(\"Player having most number of Medals so far\")\n",
    "plt.show()"
   ]
  },
  {
   "cell_type": "markdown",
   "metadata": {},
   "source": [
    "### 5. Which player has won most number Gold Medals of medals? (Top 5)"
   ]
  },
  {
   "cell_type": "code",
   "execution_count": 64,
   "metadata": {},
   "outputs": [],
   "source": [
    "players=lst[:,4:9:4]\n",
    "\n",
    "total=[]\n",
    "for i in players:\n",
    "    if(i[1]=='Gold'):\n",
    "        total.append([i[0],i[1]])"
   ]
  },
  {
   "cell_type": "code",
   "execution_count": 54,
   "metadata": {},
   "outputs": [],
   "source": [
    "ele=np.unique(total)"
   ]
  },
  {
   "cell_type": "code",
   "execution_count": 40,
   "metadata": {},
   "outputs": [],
   "source": [
    "ar={}\n",
    "for i in ele:\n",
    "    count=0\n",
    "    for j in total:\n",
    "        if(j[0]==i):\n",
    "            count+=1   \n",
    "    ar.update({i:count})\n",
    "k = Counter(ar)\n",
    "high=k.most_common(5)"
   ]
  },
  {
   "cell_type": "code",
   "execution_count": 42,
   "metadata": {},
   "outputs": [
    {
     "name": "stdout",
     "output_type": "stream",
     "text": [
      "**********************\n",
      "PHELPS, Michael--->18\n",
      "LATYNINA, Larisa--->9\n",
      "LEWIS, Carl--->9\n",
      "NURMI, Paavo--->9\n",
      "SPITZ, Mark--->9\n",
      "**********************\n"
     ]
    },
    {
     "data": {
      "image/png": "[encoded data removed]",
      "text/plain": [
       "<Figure size 720x360 with 1 Axes>"
      ]
     },
     "metadata": {
      "needs_background": "light"
     },
     "output_type": "display_data"
    }
   ],
   "source": [
    "player=[]\n",
    "values=[]\n",
    "print(\"**********************\")\n",
    "for i in high:\n",
    "    print(i[0],end=\"--->\")\n",
    "    player.append(i[0])\n",
    "    values.append(i[1])\n",
    "    print(str(i[1]))\n",
    "print(\"**********************\")\n",
    "\n",
    "  \n",
    "fig = plt.figure(figsize = (10, 5))\n",
    " \n",
    "# creating the bar plot\n",
    "plt.bar(player, values, color ='maroon',\n",
    "        width = 0.4)\n",
    " \n",
    "plt.xlabel(\"Player\")\n",
    "plt.ylabel(\"Count of medal\")\n",
    "plt.title(\"Player having most number of Gold Medals so far\")\n",
    "plt.show()"
   ]
  },
  {
   "cell_type": "markdown",
   "metadata": {},
   "source": [
    "### 6. In which year India won first Gold Medal in Summer Olympics?"
   ]
  },
  {
   "cell_type": "code",
   "execution_count": 48,
   "metadata": {},
   "outputs": [
    {
     "name": "stdout",
     "output_type": "stream",
     "text": [
      "****************************************\n",
      "India won first Gold Medal in 1900\n",
      "****************************************\n"
     ]
    }
   ],
   "source": [
    "data=lst[:,0:6:5]\n",
    "dt=[]\n",
    "for i in data:\n",
    "    if(i[1]=='IND'):\n",
    "        dt.append(i[0])\n",
    "dt.sort()\n",
    "print(\"****************************************\")\n",
    "print(\"India won first Gold Medal in \"+str(dt[0]))\n",
    "print(\"****************************************\")"
   ]
  },
  {
   "cell_type": "markdown",
   "metadata": {},
   "source": [
    "### 7. Which event is most popular in terms on number of players? (Top 5)"
   ]
  },
  {
   "cell_type": "code",
   "execution_count": 60,
   "metadata": {},
   "outputs": [
    {
     "name": "stdout",
     "output_type": "stream",
     "text": [
      "**********************\n",
      "Football--->1497\n",
      "Hockey--->1422\n",
      "Team Competition--->1147\n",
      "Basketball--->1012\n",
      "Handball--->973\n",
      "**********************\n"
     ]
    },
    {
     "data": {
      "image/png": "[encoded data removed]",
      "text/plain": [
       "<Figure size 720x360 with 1 Axes>"
      ]
     },
     "metadata": {
      "needs_background": "light"
     },
     "output_type": "display_data"
    }
   ],
   "source": [
    "data=lst[:,7:8]\n",
    "ele=np.unique(data)\n",
    "ar={}\n",
    "for i in ele:\n",
    "    count=0\n",
    "    for j in data:\n",
    "        if(j[0]==i):\n",
    "            count+=1   \n",
    "    ar.update({i:count})\n",
    "k = Counter(ar)\n",
    "high=k.most_common(5)\n",
    "\n",
    "event=[]\n",
    "values=[]\n",
    "print(\"**********************\")\n",
    "for i in high:\n",
    "    print(i[0],end=\"--->\")\n",
    "    event.append(i[0])\n",
    "    values.append(i[1])\n",
    "    print(str(i[1]))\n",
    "print(\"**********************\")\n",
    "\n",
    "  \n",
    "fig = plt.figure(figsize = (10, 5))\n",
    " \n",
    "# creating the bar plot\n",
    "plt.bar(event, values, color ='maroon',\n",
    "        width = 0.4)\n",
    " \n",
    "plt.xlabel(\"Event\")\n",
    "plt.ylabel(\"Players\")\n",
    "plt.title(\"Event is most popular in terms on number of players\")\n",
    "plt.show()"
   ]
  },
  {
   "cell_type": "markdown",
   "metadata": {},
   "source": [
    "### 8. Which sport is having most female Gold Medalists? (Top 5)"
   ]
  },
  {
   "cell_type": "code",
   "execution_count": 65,
   "metadata": {},
   "outputs": [
    {
     "name": "stdout",
     "output_type": "stream",
     "text": [
      "**********************\n",
      "Aquatics--->589\n",
      "Athletics--->389\n",
      "Gymnastics--->268\n",
      "Rowing--->217\n",
      "Volleyball--->166\n",
      "**********************\n"
     ]
    },
    {
     "data": {
      "image/png": "[encoded data removed]",
      "text/plain": [
       "<Figure size 720x360 with 1 Axes>"
      ]
     },
     "metadata": {
      "needs_background": "light"
     },
     "output_type": "display_data"
    }
   ],
   "source": [
    "data=lst[:,2:]\n",
    "ar={}\n",
    "\n",
    "total=[]\n",
    "for i in data:\n",
    "    if(i[4]=='Women' and i[6]=='Gold'):\n",
    "        total.append([i[0]])\n",
    "        \n",
    "ele=np.unique(total)     \n",
    "\n",
    "for i in ele:\n",
    "    count=0\n",
    "    for j in total:\n",
    "        if(j[0]==i):\n",
    "            count+=1   \n",
    "    ar.update({i:count})\n",
    "    \n",
    "k = Counter(ar)\n",
    "high=k.most_common(5)\n",
    "\n",
    "sport=[]\n",
    "values=[]\n",
    "print(\"**********************\")\n",
    "for i in high:\n",
    "    print(i[0],end=\"--->\")\n",
    "    sport.append(i[0])\n",
    "    values.append(i[1])\n",
    "    print(str(i[1]))\n",
    "print(\"**********************\")\n",
    "\n",
    "  \n",
    "fig = plt.figure(figsize = (10, 5))\n",
    " \n",
    "# creating the bar plot\n",
    "plt.bar(sport, values, color ='maroon',\n",
    "        width = 0.4)\n",
    " \n",
    "plt.xlabel(\"Sport\")\n",
    "plt.ylabel(\"Count\")\n",
    "plt.title(\"sport is having most female Gold Medalists\")\n",
    "plt.show()"
   ]
  },
  {
   "cell_type": "code",
   "execution_count": null,
   "metadata": {},
   "outputs": [],
   "source": []
  }
 ],
 "metadata": {
  "kernelspec": {
   "display_name": "Python 3",
   "language": "python",
   "name": "python3"
  },
  "language_info": {
   "codemirror_mode": {
    "name": "ipython",
    "version": 3
   },
   "file_extension": ".py",
   "mimetype": "text/x-python",
   "name": "python",
   "nbconvert_exporter": "python",
   "pygments_lexer": "ipython3",
   "version": "3.8.8"
  }
 },
 "nbformat": 4,
 "nbformat_minor": 2
}
